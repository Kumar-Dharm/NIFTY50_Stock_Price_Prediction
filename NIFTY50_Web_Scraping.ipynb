{
 "cells": [
  {
   "cell_type": "code",
   "execution_count": 1,
   "id": "3882c09d",
   "metadata": {},
   "outputs": [],
   "source": [
    "# Importing Libraries\n",
    "from selenium import webdriver\n",
    "from selenium.webdriver.common.by import By\n",
    "from selenium.webdriver.common.keys import Keys\n",
    "import time\n",
    "import pandas as pd"
   ]
  },
  {
   "cell_type": "code",
   "execution_count": null,
   "id": "e01ee4f0",
   "metadata": {},
   "outputs": [],
   "source": [
    "# Note:\n",
    "#  -> Change the URL for each stock from https://in.investing.com\n",
    "#  -> Change the file name while saving the dataset"
   ]
  },
  {
   "cell_type": "code",
   "execution_count": 13,
   "id": "2a41f127",
   "metadata": {},
   "outputs": [
    {
     "name": "stderr",
     "output_type": "stream",
     "text": [
      "C:\\Users\\Dharmendra Kumar\\AppData\\Local\\Temp\\ipykernel_7584\\4147941358.py:1: DeprecationWarning: executable_path has been deprecated, please pass in a Service object\n",
      "  driver = webdriver.Chrome('D:/Data Analyst Course/Web scrapping/chromedriver_win32 (1)/chromedriver.exe')\n"
     ]
    }
   ],
   "source": [
    "# Setting Driver and Link\n",
    "driver = webdriver.Chrome('D:/Data Analyst Course/Web scrapping/chromedriver_win32 (1)/chromedriver.exe')\n",
    "url ='https://in.investing.com/equities/hdfc-bank-ltd-historical-data?end_date=1689273000&st_date=1560364200'\n",
    "driver.get(url) \n",
    "driver.maximize_window() \n",
    "time.sleep(10) "
   ]
  },
  {
   "cell_type": "code",
   "execution_count": 14,
   "id": "174cd50e",
   "metadata": {},
   "outputs": [],
   "source": [
    "# Creating Soup\n",
    "from bs4 import BeautifulSoup\n",
    "content = driver.page_source\n",
    "soup = BeautifulSoup(content)"
   ]
  },
  {
   "cell_type": "code",
   "execution_count": 15,
   "id": "a6afde0c",
   "metadata": {},
   "outputs": [
    {
     "data": {
      "text/html": [
       "<div>\n",
       "<style scoped>\n",
       "    .dataframe tbody tr th:only-of-type {\n",
       "        vertical-align: middle;\n",
       "    }\n",
       "\n",
       "    .dataframe tbody tr th {\n",
       "        vertical-align: top;\n",
       "    }\n",
       "\n",
       "    .dataframe thead th {\n",
       "        text-align: right;\n",
       "    }\n",
       "</style>\n",
       "<table border=\"1\" class=\"dataframe\">\n",
       "  <thead>\n",
       "    <tr style=\"text-align: right;\">\n",
       "      <th></th>\n",
       "      <th>Date</th>\n",
       "      <th>Open</th>\n",
       "      <th>High</th>\n",
       "      <th>Low</th>\n",
       "      <th>Close</th>\n",
       "      <th>Volume</th>\n",
       "      <th>Chg%</th>\n",
       "    </tr>\n",
       "  </thead>\n",
       "  <tbody>\n",
       "    <tr>\n",
       "      <th>0</th>\n",
       "      <td>2023-07-13</td>\n",
       "      <td>1656.70</td>\n",
       "      <td>1657.45</td>\n",
       "      <td>1638.05</td>\n",
       "      <td>1641.10</td>\n",
       "      <td>20.96M</td>\n",
       "      <td>0.50%</td>\n",
       "    </tr>\n",
       "    <tr>\n",
       "      <th>1</th>\n",
       "      <td>2023-07-12</td>\n",
       "      <td>1655.35</td>\n",
       "      <td>1666.30</td>\n",
       "      <td>1627.15</td>\n",
       "      <td>1632.95</td>\n",
       "      <td>35.48M</td>\n",
       "      <td>-0.94%</td>\n",
       "    </tr>\n",
       "    <tr>\n",
       "      <th>2</th>\n",
       "      <td>2023-07-11</td>\n",
       "      <td>1663.00</td>\n",
       "      <td>1676.00</td>\n",
       "      <td>1645.50</td>\n",
       "      <td>1648.40</td>\n",
       "      <td>25.34M</td>\n",
       "      <td>-0.49%</td>\n",
       "    </tr>\n",
       "    <tr>\n",
       "      <th>3</th>\n",
       "      <td>2023-07-10</td>\n",
       "      <td>1661.00</td>\n",
       "      <td>1676.75</td>\n",
       "      <td>1649.70</td>\n",
       "      <td>1656.45</td>\n",
       "      <td>19.20M</td>\n",
       "      <td>-0.24%</td>\n",
       "    </tr>\n",
       "    <tr>\n",
       "      <th>4</th>\n",
       "      <td>2023-07-07</td>\n",
       "      <td>1665.00</td>\n",
       "      <td>1675.00</td>\n",
       "      <td>1656.30</td>\n",
       "      <td>1660.40</td>\n",
       "      <td>9.96M</td>\n",
       "      <td>-0.87%</td>\n",
       "    </tr>\n",
       "    <tr>\n",
       "      <th>...</th>\n",
       "      <td>...</td>\n",
       "      <td>...</td>\n",
       "      <td>...</td>\n",
       "      <td>...</td>\n",
       "      <td>...</td>\n",
       "      <td>...</td>\n",
       "      <td>...</td>\n",
       "    </tr>\n",
       "    <tr>\n",
       "      <th>1008</th>\n",
       "      <td>2019-06-19</td>\n",
       "      <td>1210.80</td>\n",
       "      <td>1219.73</td>\n",
       "      <td>1205.67</td>\n",
       "      <td>1211.48</td>\n",
       "      <td>5.37M</td>\n",
       "      <td>0.46%</td>\n",
       "    </tr>\n",
       "    <tr>\n",
       "      <th>1009</th>\n",
       "      <td>2019-06-18</td>\n",
       "      <td>1206.31</td>\n",
       "      <td>1213.30</td>\n",
       "      <td>1199.33</td>\n",
       "      <td>1205.94</td>\n",
       "      <td>6.21M</td>\n",
       "      <td>-0.20%</td>\n",
       "    </tr>\n",
       "    <tr>\n",
       "      <th>1010</th>\n",
       "      <td>2019-06-17</td>\n",
       "      <td>1214.80</td>\n",
       "      <td>1217.24</td>\n",
       "      <td>1205.97</td>\n",
       "      <td>1208.31</td>\n",
       "      <td>6.41M</td>\n",
       "      <td>-0.54%</td>\n",
       "    </tr>\n",
       "    <tr>\n",
       "      <th>1011</th>\n",
       "      <td>2019-06-14</td>\n",
       "      <td>1218.76</td>\n",
       "      <td>1226.74</td>\n",
       "      <td>1209.81</td>\n",
       "      <td>1214.85</td>\n",
       "      <td>5.98M</td>\n",
       "      <td>-0.39%</td>\n",
       "    </tr>\n",
       "    <tr>\n",
       "      <th>1012</th>\n",
       "      <td>2019-06-13</td>\n",
       "      <td>1215.27</td>\n",
       "      <td>1223.28</td>\n",
       "      <td>1205.29</td>\n",
       "      <td>1219.64</td>\n",
       "      <td>5.55M</td>\n",
       "      <td>0.73%</td>\n",
       "    </tr>\n",
       "  </tbody>\n",
       "</table>\n",
       "<p>1013 rows × 7 columns</p>\n",
       "</div>"
      ],
      "text/plain": [
       "           Date     Open     High      Low    Close  Volume    Chg%\n",
       "0    2023-07-13  1656.70  1657.45  1638.05  1641.10  20.96M   0.50%\n",
       "1    2023-07-12  1655.35  1666.30  1627.15  1632.95  35.48M  -0.94%\n",
       "2    2023-07-11  1663.00  1676.00  1645.50  1648.40  25.34M  -0.49%\n",
       "3    2023-07-10  1661.00  1676.75  1649.70  1656.45  19.20M  -0.24%\n",
       "4    2023-07-07  1665.00  1675.00  1656.30  1660.40   9.96M  -0.87%\n",
       "...         ...      ...      ...      ...      ...     ...     ...\n",
       "1008 2019-06-19  1210.80  1219.73  1205.67  1211.48   5.37M   0.46%\n",
       "1009 2019-06-18  1206.31  1213.30  1199.33  1205.94   6.21M  -0.20%\n",
       "1010 2019-06-17  1214.80  1217.24  1205.97  1208.31   6.41M  -0.54%\n",
       "1011 2019-06-14  1218.76  1226.74  1209.81  1214.85   5.98M  -0.39%\n",
       "1012 2019-06-13  1215.27  1223.28  1205.29  1219.64   5.55M   0.73%\n",
       "\n",
       "[1013 rows x 7 columns]"
      ]
     },
     "execution_count": 15,
     "metadata": {},
     "output_type": "execute_result"
    }
   ],
   "source": [
    "# Date\n",
    "date=[]\n",
    "for a in soup.findAll('td', attrs={'class':'col-rowDate'}):\n",
    "    date_txt = a.find('span', attrs={'class':'text'})\n",
    "    date.append(date_txt.text)\n",
    "#Closing Prices\n",
    "close=[]\n",
    "for a in soup.findAll('td', attrs={'class':'col-last_close'}):\n",
    "    close_txt = a.find('span', attrs={'class':'text'})\n",
    "    close.append(close_txt.text)\n",
    "#Open Prices\n",
    "open=[]\n",
    "for a in soup.findAll('td', attrs={'class':'col-last_open'}):\n",
    "    open_txt = a.find('span', attrs={'class':'text'})\n",
    "    open.append(open_txt.text)\n",
    "#High Prices\n",
    "high=[]\n",
    "for a in soup.findAll('td', attrs={'class':'col-last_max'}):\n",
    "    high_txt = a.find('span', attrs={'class':'text'})\n",
    "    high.append(high_txt.text)\n",
    "#Low Prices\n",
    "low=[]\n",
    "for a in soup.findAll('td', attrs={'class':'col-last_min'}):\n",
    "    low_txt = a.find('span', attrs={'class':'text'})\n",
    "    low.append(low_txt.text)\n",
    "#Volume\n",
    "volume=[]\n",
    "for a in soup.findAll('td', attrs={'class':'col-volume'}):\n",
    "    volume_txt = a.find('span', attrs={'class':'text'})\n",
    "    volume.append(volume_txt.text)\n",
    "#Chnge%\n",
    "chg=[]\n",
    "for a in soup.findAll('td', attrs={'class':'col-change_percent'}):\n",
    "    chg_txt = a.find('span', attrs={'class':'text'})\n",
    "    chg.append(chg_txt.text)\n",
    "    \n",
    "volume = volume[:len(date)]\n",
    "# Prepare DataFrame\n",
    "df_nifty = pd.DataFrame({'Date':date,'Open':open,'High':high,'Low':low,'Close':close,'Volume':volume,'Chg%':chg})\n",
    "df_nifty['Date'] = df_nifty['Date'].str.replace(r\",\",\"\")\n",
    "df_nifty['Date'] = pd.to_datetime(df_nifty.Date , format = '%b %d %Y')\n",
    "df_nifty = df_nifty.drop_duplicates(subset=\"Date\")               #droping dupicate data \n",
    "data = df_nifty\n",
    "\n",
    "data['Close'] = data['Close'].str.replace(r\",\",\"\").astype('float')\n",
    "data['Open'] = data['Open'].str.replace(r\",\",\"\").astype('float')\n",
    "data['High'] = data['High'].str.replace(r\",\",\"\").astype('float')\n",
    "data['Low'] = data['Low'].str.replace(r\",\",\"\").astype('float')\n",
    "\n",
    "# data['Volume']=data['Volume'].astype(str)\n",
    "# data['Chg%']=data['Chg%'].astype(str)\n",
    "data"
   ]
  },
  {
   "cell_type": "code",
   "execution_count": 16,
   "id": "6872db3a",
   "metadata": {},
   "outputs": [
    {
     "data": {
      "text/plain": [
       "Date      0\n",
       "Open      0\n",
       "High      0\n",
       "Low       0\n",
       "Close     0\n",
       "Volume    0\n",
       "Chg%      0\n",
       "dtype: int64"
      ]
     },
     "execution_count": 16,
     "metadata": {},
     "output_type": "execute_result"
    }
   ],
   "source": [
    "# Checking Null Values\n",
    "data.isnull().sum()"
   ]
  },
  {
   "cell_type": "code",
   "execution_count": 17,
   "id": "bcaf6c51",
   "metadata": {},
   "outputs": [],
   "source": [
    "# Saving dataset with file_name\n",
    "data.to_excel('E:/NIFTY50/HDFC Bank.xlsx', index=False)"
   ]
  },
  {
   "cell_type": "code",
   "execution_count": null,
   "id": "d19cfcca",
   "metadata": {},
   "outputs": [],
   "source": []
  },
  {
   "cell_type": "markdown",
   "id": "dba04848",
   "metadata": {},
   "source": [
    "### Data manipulation"
   ]
  },
  {
   "cell_type": "code",
   "execution_count": 9,
   "id": "47a63324",
   "metadata": {},
   "outputs": [],
   "source": [
    "def vol_change(x):\n",
    "    y = str(x)\n",
    "    if y[-1]=='M':\n",
    "        a = y[:-1]\n",
    "        return float(a)*1000000\n",
    "    elif y[-1]=='K':\n",
    "        a = y[:-1]\n",
    "        return float(a)*1000"
   ]
  },
  {
   "cell_type": "code",
   "execution_count": 11,
   "id": "d9456870",
   "metadata": {},
   "outputs": [
    {
     "data": {
      "text/plain": [
       "22940.0"
      ]
     },
     "execution_count": 11,
     "metadata": {},
     "output_type": "execute_result"
    }
   ],
   "source": [
    "a='22.94K'\n",
    "vol_change(a)"
   ]
  },
  {
   "cell_type": "code",
   "execution_count": null,
   "id": "a88c108f",
   "metadata": {},
   "outputs": [],
   "source": [
    "data['Volume']=data['Volume'].apply(lambda x: vol_change(x))"
   ]
  },
  {
   "cell_type": "code",
   "execution_count": 14,
   "id": "38d787f7",
   "metadata": {},
   "outputs": [],
   "source": [
    "def remove_per(x):\n",
    "    x = str(x)\n",
    "    y = x[:-1]\n",
    "    return float(y)"
   ]
  },
  {
   "cell_type": "code",
   "execution_count": 15,
   "id": "bfe78976",
   "metadata": {},
   "outputs": [
    {
     "data": {
      "text/plain": [
       "-0.28"
      ]
     },
     "execution_count": 15,
     "metadata": {},
     "output_type": "execute_result"
    }
   ],
   "source": [
    "a='-0.28%'\n",
    "remove_per(a)"
   ]
  },
  {
   "cell_type": "code",
   "execution_count": null,
   "id": "e452781c",
   "metadata": {},
   "outputs": [],
   "source": [
    "data['Chg%']=data['Chg%'].apply(lambda x: remove_per(x))"
   ]
  },
  {
   "cell_type": "code",
   "execution_count": null,
   "id": "0e8c402b",
   "metadata": {},
   "outputs": [],
   "source": []
  }
 ],
 "metadata": {
  "kernelspec": {
   "display_name": "Python 3 (ipykernel)",
   "language": "python",
   "name": "python3"
  },
  "language_info": {
   "codemirror_mode": {
    "name": "ipython",
    "version": 3
   },
   "file_extension": ".py",
   "mimetype": "text/x-python",
   "name": "python",
   "nbconvert_exporter": "python",
   "pygments_lexer": "ipython3",
   "version": "3.10.8"
  }
 },
 "nbformat": 4,
 "nbformat_minor": 5
}
